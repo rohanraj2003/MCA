{
 "cells": [
  {
   "cell_type": "code",
   "execution_count": 1,
   "id": "ea5ad8ba",
   "metadata": {},
   "outputs": [
    {
     "name": "stdout",
     "output_type": "stream",
     "text": [
      "{1: {'rollno': 1, 'name': 'adwad'}, 2: {'rollno': 2, 'name': 'dsa'}}\n"
     ]
    }
   ],
   "source": [
    "import json\n",
    "book={}\n",
    "book[1]={\"rollno\":1,\"name\":\"adwad\"}\n",
    "book[2]={\"rollno\":2,\"name\":\"dsa\"}\n",
    "print(book)"
   ]
  },
  {
   "cell_type": "code",
   "execution_count": 2,
   "id": "f14bac42",
   "metadata": {},
   "outputs": [],
   "source": [
    "s=json.dumps(book)"
   ]
  },
  {
   "cell_type": "code",
   "execution_count": 3,
   "id": "58a8de97",
   "metadata": {},
   "outputs": [
    {
     "data": {
      "text/plain": [
       "'{\"1\": {\"rollno\": 1, \"name\": \"adwad\"}, \"2\": {\"rollno\": 2, \"name\": \"dsa\"}}'"
      ]
     },
     "execution_count": 3,
     "metadata": {},
     "output_type": "execute_result"
    }
   ],
   "source": [
    "s"
   ]
  },
  {
   "cell_type": "code",
   "execution_count": 16,
   "id": "6bab0563",
   "metadata": {},
   "outputs": [],
   "source": [
    "try:\n",
    "    with open(\"C:/Users/shani/Desktop/ACADEMY/Samples/j.txt\",\"w\") as f:\n",
    "        f.write(s)\n",
    "except Exception as e:\n",
    "    print(e)\n",
    "    "
   ]
  },
  {
   "cell_type": "code",
   "execution_count": 17,
   "id": "4ba36328",
   "metadata": {},
   "outputs": [
    {
     "data": {
      "text/plain": [
       "'{\"1\": {\"rollno\": 1, \"name\": \"adwad\"}, \"2\": {\"rollno\": 2, \"name\": \"dsa\"}}'"
      ]
     },
     "execution_count": 17,
     "metadata": {},
     "output_type": "execute_result"
    }
   ],
   "source": [
    "x= open(\"C:/Users/shani/Desktop/ACADEMY/Samples/j.txt\",\"r\")\n",
    "variable=x.read()\n",
    "variable"
   ]
  },
  {
   "cell_type": "code",
   "execution_count": 18,
   "id": "be687202",
   "metadata": {},
   "outputs": [
    {
     "data": {
      "text/plain": [
       "{'1': {'rollno': 1, 'name': 'adwad'}, '2': {'rollno': 2, 'name': 'dsa'}}"
      ]
     },
     "execution_count": 18,
     "metadata": {},
     "output_type": "execute_result"
    }
   ],
   "source": [
    "json.loads(variable)"
   ]
  },
  {
   "cell_type": "code",
   "execution_count": 20,
   "id": "22303293",
   "metadata": {},
   "outputs": [
    {
     "data": {
      "text/plain": [
       "{'1': {'rollno': 1, 'name': 'adwad'}, '2': {'rollno': 2, 'name': 'dsa'}}"
      ]
     },
     "execution_count": 20,
     "metadata": {},
     "output_type": "execute_result"
    }
   ],
   "source": [
    "n=json.loads(variable)\n",
    "n"
   ]
  },
  {
   "cell_type": "code",
   "execution_count": 22,
   "id": "8be2fa03",
   "metadata": {},
   "outputs": [
    {
     "data": {
      "text/plain": [
       "'adwad'"
      ]
     },
     "execution_count": 22,
     "metadata": {},
     "output_type": "execute_result"
    }
   ],
   "source": [
    "book[1]['name']"
   ]
  },
  {
   "cell_type": "code",
   "execution_count": 24,
   "id": "42b656d8",
   "metadata": {},
   "outputs": [
    {
     "name": "stdout",
     "output_type": "stream",
     "text": [
      "{'rollno': 1, 'name': 'adwad'}\n",
      "{'rollno': 2, 'name': 'dsa'}\n"
     ]
    }
   ],
   "source": [
    "for i in book:\n",
    "    print(book[i])"
   ]
  }
 ],
 "metadata": {
  "kernelspec": {
   "display_name": "Python 3 (ipykernel)",
   "language": "python",
   "name": "python3"
  },
  "language_info": {
   "codemirror_mode": {
    "name": "ipython",
    "version": 3
   },
   "file_extension": ".py",
   "mimetype": "text/x-python",
   "name": "python",
   "nbconvert_exporter": "python",
   "pygments_lexer": "ipython3",
   "version": "3.11.4"
  }
 },
 "nbformat": 4,
 "nbformat_minor": 5
}
