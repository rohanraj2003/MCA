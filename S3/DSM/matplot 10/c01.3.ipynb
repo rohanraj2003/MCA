{
 "cells": [
  {
   "cell_type": "code",
   "execution_count": 3,
   "id": "60e24fae-b2b6-4a3e-8df2-c318c1c0acba",
   "metadata": {},
   "outputs": [
    {
     "name": "stdout",
     "output_type": "stream",
     "text": [
      "Array are not equal\n"
     ]
    }
   ],
   "source": [
    "def array_equal(x,y):\n",
    "    if len(x) != len(y):\n",
    "        return False\n",
    "    for i in range(len(x)):\n",
    "        if x !=y:\n",
    "            return False\n",
    "        return True\n",
    "x=[4,5,6]\n",
    "y=[9,8,7]\n",
    "if array_equal(x,y):\n",
    "    print(\"Array are equal\")\n",
    "else:\n",
    "    print(\"Array are not equal\")"
   ]
  },
  {
   "cell_type": "code",
   "execution_count": null,
   "id": "9bfbe7c1-f296-4b4e-9bc0-26c31aadd50d",
   "metadata": {},
   "outputs": [],
   "source": []
  },
  {
   "cell_type": "code",
   "execution_count": null,
   "id": "e7104be6-cd5e-4451-9929-1ce349a8c3e1",
   "metadata": {},
   "outputs": [],
   "source": []
  }
 ],
 "metadata": {
  "kernelspec": {
   "display_name": "Python 3 (ipykernel)",
   "language": "python",
   "name": "python3"
  },
  "language_info": {
   "codemirror_mode": {
    "name": "ipython",
    "version": 3
   },
   "file_extension": ".py",
   "mimetype": "text/x-python",
   "name": "python",
   "nbconvert_exporter": "python",
   "pygments_lexer": "ipython3",
   "version": "3.12.4"
  }
 },
 "nbformat": 4,
 "nbformat_minor": 5
}
