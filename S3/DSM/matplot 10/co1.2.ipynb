{
 "cells": [
  {
   "cell_type": "code",
   "execution_count": 1,
   "id": "17fcbd21-97f1-49af-8b3a-05d8be93352e",
   "metadata": {},
   "outputs": [
    {
     "data": {
      "text/plain": [
       "5"
      ]
     },
     "execution_count": 1,
     "metadata": {},
     "output_type": "execute_result"
    }
   ],
   "source": [
    "def calc(a,b,c):\n",
    "    if c=='+':\n",
    "        return a+b\n",
    "    elif c=='-':\n",
    "        return a-b\n",
    "    elif c=='*':\n",
    "        return a*b\n",
    "    elif c=='/':\n",
    "        return a/b\n",
    "    else:\n",
    "        print(\"Syntax error\")\n",
    "calc(3,2,'+')"
   ]
  },
  {
   "cell_type": "code",
   "execution_count": null,
   "id": "961ffe18-0b23-4d5d-bae4-7c08a28039d8",
   "metadata": {},
   "outputs": [],
   "source": []
  }
 ],
 "metadata": {
  "kernelspec": {
   "display_name": "Python 3 (ipykernel)",
   "language": "python",
   "name": "python3"
  },
  "language_info": {
   "codemirror_mode": {
    "name": "ipython",
    "version": 3
   },
   "file_extension": ".py",
   "mimetype": "text/x-python",
   "name": "python",
   "nbconvert_exporter": "python",
   "pygments_lexer": "ipython3",
   "version": "3.12.4"
  }
 },
 "nbformat": 4,
 "nbformat_minor": 5
}
