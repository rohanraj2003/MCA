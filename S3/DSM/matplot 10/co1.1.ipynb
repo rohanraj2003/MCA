{
 "cells": [
  {
   "cell_type": "code",
   "execution_count": 1,
   "id": "c9f23bab-3934-4fc1-9960-a8f94738f2f5",
   "metadata": {},
   "outputs": [],
   "source": [
    "import numpy as np\n",
    "a=np.array([4,5,6])\n",
    "b=np.array([11,32,23])\n",
    "mul=a*b"
   ]
  },
  {
   "cell_type": "code",
   "execution_count": 3,
   "id": "2672cec9-ca20-4201-a0a2-104c5aedff76",
   "metadata": {},
   "outputs": [
    {
     "data": {
      "text/plain": [
       "array([ 44, 160, 138])"
      ]
     },
     "execution_count": 3,
     "metadata": {},
     "output_type": "execute_result"
    }
   ],
   "source": [
    "mul\n"
   ]
  },
  {
   "cell_type": "code",
   "execution_count": null,
   "id": "8e097713-eb71-47d9-9e93-a730014b4abc",
   "metadata": {},
   "outputs": [],
   "source": []
  }
 ],
 "metadata": {
  "kernelspec": {
   "display_name": "Python 3 (ipykernel)",
   "language": "python",
   "name": "python3"
  },
  "language_info": {
   "codemirror_mode": {
    "name": "ipython",
    "version": 3
   },
   "file_extension": ".py",
   "mimetype": "text/x-python",
   "name": "python",
   "nbconvert_exporter": "python",
   "pygments_lexer": "ipython3",
   "version": "3.12.4"
  }
 },
 "nbformat": 4,
 "nbformat_minor": 5
}
