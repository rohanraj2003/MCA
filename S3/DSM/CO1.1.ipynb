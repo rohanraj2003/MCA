{
 "cells": [
  {
   "cell_type": "code",
   "execution_count": 1,
   "id": "ad774a01",
   "metadata": {},
   "outputs": [
    {
     "name": "stdout",
     "output_type": "stream",
     "text": [
      "hello\n"
     ]
    }
   ],
   "source": [
    "print ('hello')"
   ]
  },
  {
   "cell_type": "code",
   "execution_count": 2,
   "id": "bf68ed3f",
   "metadata": {},
   "outputs": [
    {
     "name": "stdout",
     "output_type": "stream",
     "text": [
      "4\n"
     ]
    }
   ],
   "source": [
    "a=1\n",
    "b=3\n",
    "c=a+b\n",
    "print (c)"
   ]
  },
  {
   "cell_type": "code",
   "execution_count": 3,
   "id": "ed8fc6f4",
   "metadata": {},
   "outputs": [
    {
     "data": {
      "text/plain": [
       "list"
      ]
     },
     "execution_count": 3,
     "metadata": {},
     "output_type": "execute_result"
    }
   ],
   "source": [
    "a=([1,2,3])\n",
    "type(a)"
   ]
  },
  {
   "cell_type": "code",
   "execution_count": 6,
   "id": "5bac049a",
   "metadata": {},
   "outputs": [
    {
     "name": "stdout",
     "output_type": "stream",
     "text": [
      "4321\n"
     ]
    }
   ],
   "source": [
    "num=1234\n",
    "rev=0\n",
    "while num>0:\n",
    "    rem=num % 10\n",
    "    rev = rev * 10 + rem\n",
    "    num=num//10\n",
    "print (rev)\n"
   ]
  },
  {
   "cell_type": "code",
   "execution_count": 7,
   "id": "bc6d0892",
   "metadata": {},
   "outputs": [
    {
     "name": "stdout",
     "output_type": "stream",
     "text": [
      "enter a number7895\n",
      "5987\n"
     ]
    }
   ],
   "source": [
    "num=int(input(\"enter a number\"))\n",
    "rev=0\n",
    "while(num>0):\n",
    "    rem=num%10\n",
    "    rev=rev*10+rem\n",
    "    num=num//10 \n",
    "print (rev)"
   ]
  },
  {
   "cell_type": "code",
   "execution_count": 8,
   "id": "cb0cc41d",
   "metadata": {},
   "outputs": [
    {
     "name": "stdout",
     "output_type": "stream",
     "text": [
      "enter a number8\n",
      "positive\n"
     ]
    }
   ],
   "source": [
    "num=int(input(\"enter a number\"))\n",
    "if num>=0 :\n",
    "    print (\"positive\")\n",
    "else:\n",
    "    print (\"negative\")"
   ]
  },
  {
   "cell_type": "code",
   "execution_count": 9,
   "id": "0057ba85",
   "metadata": {},
   "outputs": [
    {
     "name": "stdout",
     "output_type": "stream",
     "text": [
      "palindrome\n"
     ]
    }
   ],
   "source": [
    "num=11211\n",
    "tem=num\n",
    "rev=0\n",
    "while(num>0):\n",
    "    rem=num%10\n",
    "    rev=rev*10+rem\n",
    "    num=num//10 \n",
    "if (tem==rev):\n",
    "    print (\"palindrome\")\n",
    "else:\n",
    "    print (\"not palindrome\")"
   ]
  },
  {
   "cell_type": "code",
   "execution_count": 11,
   "id": "cbd5e836",
   "metadata": {},
   "outputs": [
    {
     "name": "stdout",
     "output_type": "stream",
     "text": [
      "enter a number77877\n",
      "palindrome\n"
     ]
    }
   ],
   "source": [
    "num=int(input(\"enter a number\"))\n",
    "tem=num\n",
    "rev=0\n",
    "while(num>0):\n",
    "    rem=num%10\n",
    "    rev=rev*10+rem\n",
    "    num=num//10 \n",
    "if (tem==rev):\n",
    "    print (\"palindrome\")\n",
    "else:\n",
    "    print (\"not palindrome\")\n",
    "     "
   ]
  },
  {
   "cell_type": "code",
   "execution_count": 13,
   "id": "69f3f9cd",
   "metadata": {},
   "outputs": [
    {
     "name": "stdout",
     "output_type": "stream",
     "text": [
      "3\n"
     ]
    }
   ],
   "source": [
    "num=123\n",
    "count=0\n",
    "while num>0:\n",
    "    count=count+1\n",
    "    num=num//10\n",
    "print (count)"
   ]
  },
  {
   "cell_type": "code",
   "execution_count": 14,
   "id": "5e6600fe",
   "metadata": {},
   "outputs": [
    {
     "name": "stdout",
     "output_type": "stream",
     "text": [
      "enter a number:789\n",
      "count of num is: 3\n"
     ]
    }
   ],
   "source": [
    "num=int(input(\"enter a number:\"))\n",
    "count=0\n",
    "while(num>0):\n",
    "    count=count+1\n",
    "    num=num//10\n",
    "print (\"count of num is:\",count)"
   ]
  },
  {
   "cell_type": "code",
   "execution_count": 15,
   "id": "71af3de9",
   "metadata": {},
   "outputs": [
    {
     "name": "stdout",
     "output_type": "stream",
     "text": [
      "enter the radious:2\n",
      "area is: 12.56\n",
      "perimeter is: 12.56\n"
     ]
    }
   ],
   "source": [
    "r=float(input(\"enter the radious:\"))\n",
    "area=3.14*r*r\n",
    "print (\"area is:\",area)\n",
    "perim=2*3.14*r\n",
    "print (\"perimeter is:\",perim)"
   ]
  },
  {
   "cell_type": "code",
   "execution_count": 18,
   "id": "3798b7e0",
   "metadata": {},
   "outputs": [
    {
     "name": "stdout",
     "output_type": "stream",
     "text": [
      "enter the radious2\n",
      "area is: 12.566370614359172\n",
      "perimeter is: 12.566370614359172\n"
     ]
    }
   ],
   "source": [
    "import math\n",
    "r=float(input(\"enter the radious\"))\n",
    "area=math.pi*r*r\n",
    "print (\"area is:\",area)\n",
    "perim=2*math.pi*r\n",
    "print (\"perimeter is:\",perim)"
   ]
  },
  {
   "cell_type": "code",
   "execution_count": 19,
   "id": "4d156be6",
   "metadata": {},
   "outputs": [
    {
     "name": "stdout",
     "output_type": "stream",
     "text": [
      "4\n"
     ]
    }
   ],
   "source": [
    "a=3\n",
    "b=4\n",
    "c=1\n",
    "if a>b and a>c:\n",
    "    print (a)\n",
    "elif b>a and b>c:\n",
    "    print (b)\n",
    "else:\n",
    "    print (c)"
   ]
  },
  {
   "cell_type": "code",
   "execution_count": 20,
   "id": "1cb3f34f",
   "metadata": {},
   "outputs": [
    {
     "name": "stdout",
     "output_type": "stream",
     "text": [
      "enter num1:8\n",
      "enter num2:7\n",
      "enter num3:9\n",
      "9\n"
     ]
    }
   ],
   "source": [
    "a=int(input(\"enter num1:\"))\n",
    "b=int(input(\"enter num2:\"))\n",
    "c=int(input(\"enter num3:\"))\n",
    "if a>b and a>c:\n",
    "    print (a)\n",
    "elif b>a and b>c:\n",
    "    print (b)\n",
    "else:\n",
    "    print (c)"
   ]
  },
  {
   "cell_type": "code",
   "execution_count": null,
   "id": "8bcbfc05",
   "metadata": {},
   "outputs": [
    {
     "name": "stdout",
     "output_type": "stream",
     "text": [
      "enter the comma separated nunmbers:1,2,4,6,7\n",
      "list is: ['1', '2', '4', '6', '7']\n",
      "tuple is: ('1', '2', '4', '6', '7')\n"
     ]
    }
   ],
   "source": [
    "v=input(\"enter the comma separated nunmbers:\")\n",
    "list=v.split(\",\")\n",
    "tuple=tuple(list)\n",
    "print (\"list is:\",list)\n",
    "print(\"tuple is:\",tuple)"
   ]
  },
  {
   "cell_type": "code",
   "execution_count": 22,
   "id": "dc39f9d5",
   "metadata": {},
   "outputs": [
    {
     "name": "stdout",
     "output_type": "stream",
     "text": [
      "first and last element: ['1', '4']\n"
     ]
    }
   ],
   "source": [
    "list=['1','2','3','4']\n",
    "res=[list[0],list[-1]]\n",
    "print(\"first and last element:\",res)"
   ]
  },
  {
   "cell_type": "code",
   "execution_count": 23,
   "id": "11a7ed7d",
   "metadata": {},
   "outputs": [
    {
     "name": "stdout",
     "output_type": "stream",
     "text": [
      "{'1': 'python', '2': 'IoT'}\n",
      "{'1': 'python', '2': 'IoT', 'year': 'final'}\n",
      "{'1': 'python', '2': 'IoT', 'year': 'final', 'sem': 'third'}\n"
     ]
    }
   ],
   "source": [
    "dict={\"1\":\"python\",\"2\":\"IoT\"}\n",
    "print (dict)\n",
    "dict[\"year\"]=\"final\"\n",
    "print(dict)\n",
    "dict[\"sem\"]=\"third\"\n",
    "print (dict)"
   ]
  },
  {
   "cell_type": "code",
   "execution_count": 24,
   "id": "fc29893b",
   "metadata": {},
   "outputs": [
    {
     "name": "stdout",
     "output_type": "stream",
     "text": [
      "None\n",
      "{'1': 'python', '2': 'IoT', '3': 'ds', '4': 'or', '5': 'daa'}\n"
     ]
    }
   ],
   "source": [
    "def merge(dict1,dict):\n",
    "    return(dict.update(dict1))\n",
    "dict={\"1\":\"python\",\"2\":\"IoT\"}\n",
    "dict1={\"3\":\"ds\",\"4\":\"or\",\"5\":\"daa\"}\n",
    "print (merge(dict1,dict))\n",
    "print (dict)\n"
   ]
  },
  {
   "cell_type": "code",
   "execution_count": 26,
   "id": "094604c9",
   "metadata": {},
   "outputs": [
    {
     "name": "stdout",
     "output_type": "stream",
     "text": [
      "enter the start year:1999\n",
      "enter the ending year:2024\n",
      "2004\n",
      "2008\n",
      "2012\n",
      "2016\n",
      "2020\n"
     ]
    }
   ],
   "source": [
    "syear=int(input(\"enter the start year:\"))\n",
    "eyear=int(input(\"enter the ending year:\"))\n",
    "for year in range(syear, eyear):\n",
    "    if(year%4==0 and year%100!=0):\n",
    "        print (year)"
   ]
  },
  {
   "cell_type": "code",
   "execution_count": 27,
   "id": "eac87b0f",
   "metadata": {},
   "outputs": [
    {
     "name": "stdout",
     "output_type": "stream",
     "text": [
      "enter two numbers\n",
      "2\n",
      "3\n",
      "4\n",
      "5\n",
      "6\n",
      "7\n"
     ]
    }
   ],
   "source": [
    "print(\"enter two numbers\")\n",
    "for i in range(2, 8):\n",
    "    print (i) "
   ]
  },
  {
   "cell_type": "code",
   "execution_count": 28,
   "id": "b9bef2c2",
   "metadata": {},
   "outputs": [
    {
     "name": "stdout",
     "output_type": "stream",
     "text": [
      "enter a number:2\n",
      "1\n",
      "2\n"
     ]
    }
   ],
   "source": [
    "n=int(input(\"enter a number:\"))\n",
    "fact=1\n",
    "for x in range(1,n+1):\n",
    "    fact=fact*x\n",
    "    print (fact)"
   ]
  },
  {
   "cell_type": "code",
   "execution_count": 29,
   "id": "a3d31c5e",
   "metadata": {},
   "outputs": [
    {
     "name": "stdout",
     "output_type": "stream",
     "text": [
      "abcdef\n"
     ]
    }
   ],
   "source": [
    "def concat(str1,str2):\n",
    "    return str1+str2\n",
    "str1=\"abc\"\n",
    "str2=\"def\"\n",
    "res=concat(str1,str2)\n",
    "print(res)"
   ]
  },
  {
   "cell_type": "code",
   "execution_count": 30,
   "id": "3d23a793",
   "metadata": {},
   "outputs": [
    {
     "name": "stdout",
     "output_type": "stream",
     "text": [
      "enter 1st string:anj\n",
      "enter 2nd string:ana\n",
      "concat string is: anjana\n"
     ]
    }
   ],
   "source": [
    "def concat(str1,str2):\n",
    "    return str1+str2\n",
    "str1=input(\"enter 1st string:\")\n",
    "str2=input(\"enter 2nd string:\")\n",
    "res=concat(str1,str2)\n",
    "print(\"concat string is:\",res)\n"
   ]
  },
  {
   "cell_type": "code",
   "execution_count": 31,
   "id": "12702f06",
   "metadata": {},
   "outputs": [
    {
     "name": "stdout",
     "output_type": "stream",
     "text": [
      "enter the year:2021\n",
      "not leap year\n"
     ]
    }
   ],
   "source": [
    "year=int(input(\"enter the year:\"))\n",
    "if(year%4==0 and year%100!=0):\n",
    "    print (\"leap year\")\n",
    "else:\n",
    "    print(\"not leap year\")"
   ]
  },
  {
   "cell_type": "code",
   "execution_count": 32,
   "id": "9b93c85c",
   "metadata": {},
   "outputs": [
    {
     "name": "stdout",
     "output_type": "stream",
     "text": [
      "current date and time: 2024-10-07 21:38:00.685468\n"
     ]
    }
   ],
   "source": [
    "import datetime\n",
    "datetime=datetime.datetime.now()\n",
    "print(\"current date and time:\",datetime)"
   ]
  },
  {
   "cell_type": "code",
   "execution_count": 33,
   "id": "a348d6c3",
   "metadata": {},
   "outputs": [
    {
     "name": "stdout",
     "output_type": "stream",
     "text": [
      "0\n",
      "1\n",
      "2\n",
      "3\n",
      "4\n"
     ]
    }
   ],
   "source": [
    "for i in range(5):\n",
    "    if(i==6):\n",
    "        continue\n",
    "    print(i)\n",
    "     "
   ]
  },
  {
   "cell_type": "code",
   "execution_count": 34,
   "id": "349cf1be",
   "metadata": {},
   "outputs": [
    {
     "name": "stdout",
     "output_type": "stream",
     "text": [
      "0\n",
      "1\n",
      "2\n",
      "3\n"
     ]
    }
   ],
   "source": [
    "for i in range(5):\n",
    "    if(i==4):\n",
    "        break\n",
    "    print(i)"
   ]
  },
  {
   "cell_type": "code",
   "execution_count": 35,
   "id": "38650cc3",
   "metadata": {},
   "outputs": [
    {
     "name": "stdout",
     "output_type": "stream",
     "text": [
      "0\n",
      "1\n",
      "2\n",
      "3\n",
      "4\n"
     ]
    }
   ],
   "source": [
    "for i in range(5):\n",
    "    if(i==5):\n",
    "        pass\n",
    "    print(i)"
   ]
  },
  {
   "cell_type": "code",
   "execution_count": 36,
   "id": "94aef54a",
   "metadata": {},
   "outputs": [
    {
     "name": "stdout",
     "output_type": "stream",
     "text": [
      "anjana\n",
      "6\n"
     ]
    }
   ],
   "source": [
    "list=[\"anju\",\"anjana\"]\n",
    "lngwrd=max(list,key=len)\n",
    "print(lngwrd)\n",
    "print(len(lngwrd))"
   ]
  },
  {
   "cell_type": "code",
   "execution_count": 37,
   "id": "f89b5c72",
   "metadata": {},
   "outputs": [
    {
     "name": "stdout",
     "output_type": "stream",
     "text": [
      "rollno:2\n",
      "name:anu\n",
      "total mark:88\n",
      "rollno: 2\n",
      "name: anu\n",
      "total mark: 88\n"
     ]
    }
   ],
   "source": [
    "class student:\n",
    "    rollno=input(\"rollno:\")\n",
    "    name=input(\"name:\")\n",
    "    totalmark=int(input(\"total mark:\"))\n",
    "print(\"rollno:\",student.rollno)\n",
    "print(\"name:\",student.name)\n",
    "print(\"total mark:\",student.totalmark)"
   ]
  },
  {
   "cell_type": "code",
   "execution_count": 38,
   "id": "16b16d6e",
   "metadata": {},
   "outputs": [
    {
     "name": "stdout",
     "output_type": "stream",
     "text": [
      "length: 10\n",
      "breadth: 20\n",
      "area of a rectangle: 200\n",
      "perimeter of a rectangle: 60\n"
     ]
    }
   ],
   "source": [
    "class rectangle:\n",
    "    length=10\n",
    "    breadth=20\n",
    "    def rectangle_area(l,b):\n",
    "        return l*b\n",
    "    def rectangle_perim(l,b):\n",
    "        return (2*(l+b))\n",
    "print(\"length:\",rectangle.length)\n",
    "print(\"breadth:\",rectangle.breadth)\n",
    "print(\"area of a rectangle:\",rectangle.rectangle_area(rectangle.length,rectangle.breadth))\n",
    "print(\"perimeter of a rectangle:\",rectangle.rectangle_perim(rectangle.length,rectangle.breadth))\n"
   ]
  },
  {
   "cell_type": "code",
   "execution_count": 39,
   "id": "fdb5f996",
   "metadata": {},
   "outputs": [
    {
     "name": "stdout",
     "output_type": "stream",
     "text": [
      "1 dog\n",
      "2 cat\n",
      "3 ant\n",
      "4 rabbit\n",
      "5 rat\n"
     ]
    }
   ],
   "source": [
    "dict1={}\n",
    "dict1[3]=\"ant\"\n",
    "dict1[2]=\"cat\"\n",
    "dict1[5]=\"rat\"\n",
    "dict1[1]=\"dog\"\n",
    "dict1[4]=\"rabbit\"\n",
    "for i in sorted(dict1):\n",
    "    print(i,dict1[i])\n"
   ]
  },
  {
   "cell_type": "code",
   "execution_count": 40,
   "id": "8b1320f2",
   "metadata": {},
   "outputs": [
    {
     "name": "stdout",
     "output_type": "stream",
     "text": [
      "1 cat\n",
      "2 fox\n",
      "3 rat\n",
      "4 ant\n",
      "5 dog\n"
     ]
    }
   ],
   "source": [
    "dict1={\"1\":\"cat\",\"5\":\"dog\",\"3\":\"rat\",\"2\":\"fox\",\"4\":\"ant\"}\n",
    "for i in sorted(dict1):\n",
    "    print(i,dict1[i])\n"
   ]
  },
  {
   "cell_type": "code",
   "execution_count": 41,
   "id": "30abe4e7",
   "metadata": {},
   "outputs": [
    {
     "name": "stdout",
     "output_type": "stream",
     "text": [
      "enter first num:22\n",
      "enter second num:45\n",
      "result: 0.4888888888888889\n"
     ]
    }
   ],
   "source": [
    "a=int(input(\"enter first num:\"))\n",
    "b=int(input(\"enter second num:\"))\n",
    "try:\n",
    "    res=a/b\n",
    "    print(\"result:\",res)\n",
    "except:\n",
    "    print(\"exception handled and program end\")"
   ]
  },
  {
   "cell_type": "code",
   "execution_count": null,
   "id": "41711938",
   "metadata": {},
   "outputs": [],
   "source": []
  }
 ],
 "metadata": {
  "kernelspec": {
   "display_name": "Python 3",
   "language": "python",
   "name": "python3"
  },
  "language_info": {
   "codemirror_mode": {
    "name": "ipython",
    "version": 3
   },
   "file_extension": ".py",
   "mimetype": "text/x-python",
   "name": "python",
   "nbconvert_exporter": "python",
   "pygments_lexer": "ipython3",
   "version": "3.8.8"
  }
 },
 "nbformat": 4,
 "nbformat_minor": 5
}
